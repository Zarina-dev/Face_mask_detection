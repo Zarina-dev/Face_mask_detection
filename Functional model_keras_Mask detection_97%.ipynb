{
 "cells": [
  {
   "cell_type": "markdown",
   "id": "3a9dd460",
   "metadata": {},
   "source": [
    "* you can download the dataset in this link (used only train \n",
    "https://www.kaggle.com/ashishjangra27/face-mask-12k-images-dataset"
   ]
  },
  {
   "cell_type": "code",
   "execution_count": 11,
   "id": "818d1368",
   "metadata": {},
   "outputs": [],
   "source": [
    "from tensorflow import keras\n",
    "from tensorflow.keras.layers import AveragePooling2D, Dropout, Flatten, Dense, Input\n",
    "from tensorflow.keras.models import Model\n",
    "from tensorflow.keras.optimizers import Adam\n",
    "\n",
    "from sklearn.model_selection import train_test_split\n",
    "\n",
    "import matplotlib.pyplot as plt\n",
    "import numpy as np\n",
    "import os\n",
    "import cv2"
   ]
  },
  {
   "cell_type": "code",
   "execution_count": 94,
   "id": "21b3c87c",
   "metadata": {},
   "outputs": [],
   "source": [
    "import tensorflow as tf\n",
    "\n",
    "from tensorflow.keras.layers import Conv2D, MaxPool2D"
   ]
  },
  {
   "cell_type": "code",
   "execution_count": 10,
   "id": "a5726956",
   "metadata": {},
   "outputs": [],
   "source": []
  },
  {
   "cell_type": "markdown",
   "id": "e4ae5fcc",
   "metadata": {},
   "source": [
    "## load img dataset (myself)"
   ]
  },
  {
   "cell_type": "code",
   "execution_count": 68,
   "id": "491bc8f6",
   "metadata": {},
   "outputs": [],
   "source": [
    "DATADIR_WITH_MASK = r'C:\\Users\\k\\Desktop\\python_fold2\\Face Mask img Dataset\\WithMask'\n",
    "DATADIR_WITHOUT_MASK = r'C:\\Users\\k\\Desktop\\python_fold2\\Face Mask img Dataset\\WithoutMask'\n",
    "IMG_SIZE = 60\n",
    "\n",
    "data = []\n",
    "for i,img in enumerate(os.listdir(DATADIR_WITH_MASK)):\n",
    "    img_array = cv2.imread(os.path.join(DATADIR_WITH_MASK,img ),cv2.IMREAD_GRAYSCALE)\n",
    "    img_array = cv2.resize(img_array, (IMG_SIZE, IMG_SIZE))\n",
    "    data.append((img_array, [0]))\n",
    "    \n",
    "    if i==2999:\n",
    "        break\n",
    "\n",
    "\n",
    "for i, img in enumerate(os.listdir(DATADIR_WITHOUT_MASK)):\n",
    "    img_array = cv2.imread(os.path.join(DATADIR_WITHOUT_MASK,img),cv2.IMREAD_GRAYSCALE)\n",
    "    img_array = cv2.resize(img_array, (IMG_SIZE, IMG_SIZE))\n",
    "    data.append((img_array, [1]))\n",
    "\n",
    "    if i==2999:\n",
    "        break\n",
    "\n",
    "\n"
   ]
  },
  {
   "cell_type": "code",
   "execution_count": 69,
   "id": "6d28654c",
   "metadata": {},
   "outputs": [
    {
     "name": "stderr",
     "output_type": "stream",
     "text": [
      "<ipython-input-69-185b8a47b524>:1: VisibleDeprecationWarning: Creating an ndarray from ragged nested sequences (which is a list-or-tuple of lists-or-tuples-or ndarrays with different lengths or shapes) is deprecated. If you meant to do this, you must specify 'dtype=object' when creating the ndarray\n",
      "  np.array(data).shape\n"
     ]
    },
    {
     "data": {
      "text/plain": [
       "(6000, 2)"
      ]
     },
     "execution_count": 69,
     "metadata": {},
     "output_type": "execute_result"
    }
   ],
   "source": [
    "np.array(data).shape"
   ]
  },
  {
   "cell_type": "code",
   "execution_count": 70,
   "id": "97218b61",
   "metadata": {},
   "outputs": [
    {
     "data": {
      "text/plain": [
       "[(array([[205, 205, 214, ...,  89, 116, 135],\n",
       "         [203, 203, 216, ...,  92, 128, 141],\n",
       "         [203, 203, 216, ...,  94, 135, 141],\n",
       "         ...,\n",
       "         [198, 213, 218, ..., 180, 180, 180],\n",
       "         [198, 213, 218, ..., 138, 143, 151],\n",
       "         [198, 213, 218, ..., 135, 135, 135]], dtype=uint8),\n",
       "  [0]),\n",
       " (array([[30, 35, 24, ..., 35, 43, 33],\n",
       "         [32, 29, 17, ..., 37, 40, 33],\n",
       "         [33, 25, 31, ..., 42, 34, 45],\n",
       "         ...,\n",
       "         [25, 38, 35, ...,  4,  6,  8],\n",
       "         [22, 36, 37, ...,  5,  5,  7],\n",
       "         [21, 27, 45, ...,  7,  8, 12]], dtype=uint8),\n",
       "  [1]),\n",
       " (array([[195, 105,  49, ...,  60,  69,  98],\n",
       "         [148,  68,  42, ...,  61,  49,  74],\n",
       "         [ 93,  42,  45, ...,  67,  66,  75],\n",
       "         ...,\n",
       "         [ 89, 116,  97, ...,  81,  71,  47],\n",
       "         [ 77, 124,  95, ...,  72,  50,  59],\n",
       "         [ 69, 111, 102, ...,  79,  66,  53]], dtype=uint8),\n",
       "  [1])]"
      ]
     },
     "execution_count": 70,
     "metadata": {},
     "output_type": "execute_result"
    }
   ],
   "source": [
    "import random\n",
    "random.seed(3)\n",
    "\n",
    "data_shuffled = random.sample(data, len(data))\n",
    "data_shuffled[:3]"
   ]
  },
  {
   "cell_type": "code",
   "execution_count": 71,
   "id": "2787dc4d",
   "metadata": {},
   "outputs": [
    {
     "data": {
      "text/plain": [
       "(array([[205, 205, 214, ...,  89, 116, 135],\n",
       "        [203, 203, 216, ...,  92, 128, 141],\n",
       "        [203, 203, 216, ...,  94, 135, 141],\n",
       "        ...,\n",
       "        [198, 213, 218, ..., 180, 180, 180],\n",
       "        [198, 213, 218, ..., 138, 143, 151],\n",
       "        [198, 213, 218, ..., 135, 135, 135]], dtype=uint8),\n",
       " [0])"
      ]
     },
     "execution_count": 71,
     "metadata": {},
     "output_type": "execute_result"
    }
   ],
   "source": [
    "data_shuffled[0]"
   ]
  },
  {
   "cell_type": "code",
   "execution_count": 151,
   "id": "19964723",
   "metadata": {},
   "outputs": [
    {
     "data": {
      "text/plain": [
       "<matplotlib.image.AxesImage at 0x22e4840bc10>"
      ]
     },
     "execution_count": 151,
     "metadata": {},
     "output_type": "execute_result"
    },
    {
     "data": {
      "image/png": "[encoded data removed]",
      "text/plain": [
       "<Figure size 432x288 with 1 Axes>"
      ]
     },
     "metadata": {
      "needs_background": "light"
     },
     "output_type": "display_data"
    }
   ],
   "source": [
    "plt.imshow(data_shuffled[1][0],cmap = 'gray')"
   ]
  },
  {
   "cell_type": "code",
   "execution_count": 73,
   "id": "fe95fa10",
   "metadata": {},
   "outputs": [
    {
     "data": {
      "text/plain": [
       "(60, 60)"
      ]
     },
     "execution_count": 73,
     "metadata": {},
     "output_type": "execute_result"
    }
   ],
   "source": [
    "np.array(data_shuffled[1][0]).shape"
   ]
  },
  {
   "cell_type": "markdown",
   "id": "66056634",
   "metadata": {},
   "source": [
    "## normalize "
   ]
  },
  {
   "cell_type": "code",
   "execution_count": 119,
   "id": "eacf606b",
   "metadata": {},
   "outputs": [],
   "source": [
    "X = []\n",
    "y = []\n",
    "\n",
    "for d in data_shuffled:\n",
    "    X.append(d[0])\n",
    "    y.append(d[1])"
   ]
  },
  {
   "cell_type": "code",
   "execution_count": 120,
   "id": "9ac84851",
   "metadata": {},
   "outputs": [
    {
     "data": {
      "text/plain": [
       "(6000, 60, 60)"
      ]
     },
     "execution_count": 120,
     "metadata": {},
     "output_type": "execute_result"
    }
   ],
   "source": [
    "X = np.array(X)/255.0\n",
    "X.shape"
   ]
  },
  {
   "cell_type": "code",
   "execution_count": 121,
   "id": "72575145",
   "metadata": {},
   "outputs": [
    {
     "data": {
      "text/plain": [
       "(6000, 60, 60, 1)"
      ]
     },
     "execution_count": 121,
     "metadata": {},
     "output_type": "execute_result"
    }
   ],
   "source": [
    "X = X.reshape(-1,IMG_SIZE,IMG_SIZE,1)\n",
    "X.shape"
   ]
  },
  {
   "cell_type": "code",
   "execution_count": 122,
   "id": "f16b4e2e",
   "metadata": {},
   "outputs": [
    {
     "data": {
      "text/plain": [
       "(4800, 60, 60, 1)"
      ]
     },
     "execution_count": 122,
     "metadata": {},
     "output_type": "execute_result"
    }
   ],
   "source": [
    "X_train, X_test, y_train, y_test = train_test_split(X,y, train_size=0.8, random_state=1)\n",
    "np.array(X_train).shape"
   ]
  },
  {
   "cell_type": "markdown",
   "id": "1b32ca1b",
   "metadata": {},
   "source": [
    "## Build ANN"
   ]
  },
  {
   "cell_type": "code",
   "execution_count": 123,
   "id": "31d17bbc",
   "metadata": {},
   "outputs": [],
   "source": [
    "model = keras.Sequential()\n",
    "model.add(Conv2D(32, kernel_size = (3,3), input_shape = (X_train.shape[1:]), padding = 'SAME', activation = tf.nn.relu))\n",
    "model.add(AveragePooling2D(pool_size = (2,2), strides = (2,2), padding= 'SAME'))\n",
    "model.add(Conv2D(64, kernel_size = (3,3), activation = tf.nn.relu))\n",
    "model.add(AveragePooling2D(pool_size = (2,2), strides = (2,2), padding ='SAME'))\n",
    "model.add(Flatten())\n",
    "model.add(Dense(1024, activation = tf.nn.relu))\n",
    "model.add(Dense(1,activation = 'sigmoid'))\n",
    "model.add(Dropout(0.25))"
   ]
  },
  {
   "cell_type": "code",
   "execution_count": 124,
   "id": "865cf279",
   "metadata": {
    "scrolled": true
   },
   "outputs": [
    {
     "name": "stdout",
     "output_type": "stream",
     "text": [
      "Model: \"sequential_5\"\n",
      "_________________________________________________________________\n",
      "Layer (type)                 Output Shape              Param #   \n",
      "=================================================================\n",
      "conv2d_6 (Conv2D)            (None, 60, 60, 32)        320       \n",
      "_________________________________________________________________\n",
      "average_pooling2d_6 (Average (None, 30, 30, 32)        0         \n",
      "_________________________________________________________________\n",
      "conv2d_7 (Conv2D)            (None, 28, 28, 64)        18496     \n",
      "_________________________________________________________________\n",
      "average_pooling2d_7 (Average (None, 14, 14, 64)        0         \n",
      "_________________________________________________________________\n",
      "flatten_3 (Flatten)          (None, 12544)             0         \n",
      "_________________________________________________________________\n",
      "dense_6 (Dense)              (None, 1024)              12846080  \n",
      "_________________________________________________________________\n",
      "dense_7 (Dense)              (None, 1)                 1025      \n",
      "_________________________________________________________________\n",
      "dropout_1 (Dropout)          (None, 1)                 0         \n",
      "=================================================================\n",
      "Total params: 12,865,921\n",
      "Trainable params: 12,865,921\n",
      "Non-trainable params: 0\n",
      "_________________________________________________________________\n"
     ]
    }
   ],
   "source": [
    "model.summary()"
   ]
  },
  {
   "cell_type": "markdown",
   "id": "ec0655e3",
   "metadata": {},
   "source": [
    "## Train"
   ]
  },
  {
   "cell_type": "code",
   "execution_count": 125,
   "id": "4ffa1186",
   "metadata": {},
   "outputs": [],
   "source": [
    "model.compile(loss = 'binary_crossentropy',\n",
    "             optimizer = 'adam',\n",
    "             metrics=['accuracy'])\n"
   ]
  },
  {
   "cell_type": "code",
   "execution_count": 126,
   "id": "0de474bc",
   "metadata": {},
   "outputs": [
    {
     "data": {
      "text/plain": [
       "((4800, 60, 60, 1), (1200, 60, 60, 1), (4800, 1), (1200, 1))"
      ]
     },
     "execution_count": 126,
     "metadata": {},
     "output_type": "execute_result"
    }
   ],
   "source": [
    "X_train = np.array(X_train)\n",
    "y_train = np.array(y_train)\n",
    "y_train = np.array(y_train)\n",
    "y_test = np.array(y_test)\n",
    "\n",
    "X_train.shape, X_test.shape, y_train.shape, y_test.shape"
   ]
  },
  {
   "cell_type": "code",
   "execution_count": 131,
   "id": "a5805238",
   "metadata": {},
   "outputs": [
    {
     "name": "stdout",
     "output_type": "stream",
     "text": [
      "Epoch 1/5\n",
      "128/128 [==============================] - 171s 1s/step - loss: 1.9036 - accuracy: 0.8596 - val_loss: 0.2011 - val_accuracy: 0.9264\n",
      "Epoch 2/5\n",
      "128/128 [==============================] - 183s 1s/step - loss: 1.8988 - accuracy: 0.8593 - val_loss: 0.1316 - val_accuracy: 0.9556\n",
      "Epoch 3/5\n",
      "128/128 [==============================] - 191s 1s/step - loss: 1.9951 - accuracy: 0.8488 - val_loss: 0.1099 - val_accuracy: 0.9722\n",
      "Epoch 4/5\n",
      "128/128 [==============================] - 183s 1s/step - loss: 1.9164 - accuracy: 0.8610 - val_loss: 0.3147 - val_accuracy: 0.8847\n",
      "Epoch 5/5\n",
      "128/128 [==============================] - 153s 1s/step - loss: 1.8582 - accuracy: 0.8645 - val_loss: 0.0767 - val_accuracy: 0.9833\n"
     ]
    }
   ],
   "source": [
    "history = model.fit(X_train, y_train, epochs=5, batch_size = 32, validation_split=0.15)"
   ]
  },
  {
   "cell_type": "code",
   "execution_count": 133,
   "id": "dd0e2fb7",
   "metadata": {},
   "outputs": [
    {
     "data": {
      "image/png": "[encoded data removed]",
      "text/plain": [
       "<Figure size 432x288 with 1 Axes>"
      ]
     },
     "metadata": {
      "needs_background": "light"
     },
     "output_type": "display_data"
    }
   ],
   "source": [
    "plt.plot(history.history['accuracy'])\n",
    "plt.plot(history.history['val_accuracy'])\n",
    "plt.legend(['accuracy','val_accuracy'])\n",
    "plt.show()"
   ]
  },
  {
   "cell_type": "code",
   "execution_count": 168,
   "id": "087a266d",
   "metadata": {},
   "outputs": [
    {
     "name": "stdout",
     "output_type": "stream",
     "text": [
      "38/38 [==============================] - 11s 294ms/step - loss: 0.1120 - accuracy: 0.9792\n",
      "Test loss:11.20152398943901% | Test accuracy: 97.91666865348816%\n"
     ]
    }
   ],
   "source": [
    "# evaluate\n",
    "\n",
    "score = model.evaluate(X_test, y_test)\n",
    "print(f'Test loss:{score[0]*100}% | Test accuracy: {score[1]*100}%')"
   ]
  },
  {
   "cell_type": "code",
   "execution_count": null,
   "id": "89c805c3",
   "metadata": {},
   "outputs": [],
   "source": []
  },
  {
   "cell_type": "markdown",
   "id": "8cf92a46",
   "metadata": {},
   "source": [
    "## Predict new sample"
   ]
  },
  {
   "cell_type": "code",
   "execution_count": 156,
   "id": "9c0fee27",
   "metadata": {},
   "outputs": [
    {
     "data": {
      "image/png": "[encoded data removed]",
      "text/plain": [
       "<Figure size 432x288 with 1 Axes>"
      ]
     },
     "metadata": {
      "needs_background": "light"
     },
     "output_type": "display_data"
    },
    {
     "data": {
      "image/png": "[encoded data removed]",
      "text/plain": [
       "<Figure size 432x288 with 1 Axes>"
      ]
     },
     "metadata": {
      "needs_background": "light"
     },
     "output_type": "display_data"
    },
    {
     "data": {
      "image/png": "[encoded data removed]",
      "text/plain": [
       "<Figure size 432x288 with 1 Axes>"
      ]
     },
     "metadata": {
      "needs_background": "light"
     },
     "output_type": "display_data"
    },
    {
     "data": {
      "image/png": "[encoded data removed]",
      "text/plain": [
       "<Figure size 432x288 with 1 Axes>"
      ]
     },
     "metadata": {
      "needs_background": "light"
     },
     "output_type": "display_data"
    },
    {
     "data": {
      "text/plain": [
       "[array([1]), array([0]), array([0]), array([1])]"
      ]
     },
     "execution_count": 156,
     "metadata": {},
     "output_type": "execute_result"
    }
   ],
   "source": [
    "using_samples = [1,500,3000,150]\n",
    "my_pred_sample_y_real = []\n",
    "\n",
    "for sample in using_samples:\n",
    "    reshaped_img = X_train[sample].reshape(IMG_SIZE, IMG_SIZE)\n",
    "    my_pred_sample_y_real.append(y_train[sample])                                   # [[1], [0],[0],[1]]   <-- predict should be like this\n",
    "    \n",
    "    plt.imshow(reshaped_img, cmap = 'gray')\n",
    "    plt.show()\n",
    "their_y"
   ]
  },
  {
   "cell_type": "code",
   "execution_count": 146,
   "id": "e8060111",
   "metadata": {},
   "outputs": [
    {
     "data": {
      "text/plain": [
       "[array([[[0.01176471],\n",
       "         [0.01176471],\n",
       "         [0.01568627],\n",
       "         ...,\n",
       "         [0.06666667],\n",
       "         [0.0627451 ],\n",
       "         [0.0627451 ]],\n",
       " \n",
       "        [[0.01176471],\n",
       "         [0.01176471],\n",
       "         [0.01568627],\n",
       "         ...,\n",
       "         [0.03529412],\n",
       "         [0.03529412],\n",
       "         [0.03529412]],\n",
       " \n",
       "        [[0.01176471],\n",
       "         [0.01568627],\n",
       "         [0.01960784],\n",
       "         ...,\n",
       "         [0.03529412],\n",
       "         [0.03137255],\n",
       "         [0.03529412]],\n",
       " \n",
       "        ...,\n",
       " \n",
       "        [[0.00784314],\n",
       "         [0.00784314],\n",
       "         [0.00784314],\n",
       "         ...,\n",
       "         [0.01176471],\n",
       "         [0.01176471],\n",
       "         [0.01176471]],\n",
       " \n",
       "        [[0.01960784],\n",
       "         [0.01176471],\n",
       "         [0.00784314],\n",
       "         ...,\n",
       "         [0.00784314],\n",
       "         [0.00784314],\n",
       "         [0.00784314]],\n",
       " \n",
       "        [[0.01176471],\n",
       "         [0.00784314],\n",
       "         [0.00784314],\n",
       "         ...,\n",
       "         [0.00784314],\n",
       "         [0.00784314],\n",
       "         [0.00784314]]]),\n",
       " array([[[0.40392157],\n",
       "         [0.39215686],\n",
       "         [0.39215686],\n",
       "         ...,\n",
       "         [0.        ],\n",
       "         [0.        ],\n",
       "         [0.        ]],\n",
       " \n",
       "        [[0.39607843],\n",
       "         [0.39215686],\n",
       "         [0.38431373],\n",
       "         ...,\n",
       "         [0.        ],\n",
       "         [0.        ],\n",
       "         [0.        ]],\n",
       " \n",
       "        [[0.39607843],\n",
       "         [0.38823529],\n",
       "         [0.38039216],\n",
       "         ...,\n",
       "         [0.        ],\n",
       "         [0.        ],\n",
       "         [0.        ]],\n",
       " \n",
       "        ...,\n",
       " \n",
       "        [[0.01176471],\n",
       "         [0.27058824],\n",
       "         [0.30980392],\n",
       "         ...,\n",
       "         [0.01568627],\n",
       "         [0.01568627],\n",
       "         [0.00784314]],\n",
       " \n",
       "        [[0.00784314],\n",
       "         [0.12156863],\n",
       "         [0.31764706],\n",
       "         ...,\n",
       "         [0.01960784],\n",
       "         [0.01960784],\n",
       "         [0.01568627]],\n",
       " \n",
       "        [[0.00784314],\n",
       "         [0.01960784],\n",
       "         [0.19607843],\n",
       "         ...,\n",
       "         [0.01568627],\n",
       "         [0.01960784],\n",
       "         [0.01960784]]]),\n",
       " array([[[0.22745098],\n",
       "         [0.50980392],\n",
       "         [0.28235294],\n",
       "         ...,\n",
       "         [0.08627451],\n",
       "         [0.08235294],\n",
       "         [0.08235294]],\n",
       " \n",
       "        [[0.26666667],\n",
       "         [0.5372549 ],\n",
       "         [0.30196078],\n",
       "         ...,\n",
       "         [0.08627451],\n",
       "         [0.08235294],\n",
       "         [0.08235294]],\n",
       " \n",
       "        [[0.34509804],\n",
       "         [0.54901961],\n",
       "         [0.36470588],\n",
       "         ...,\n",
       "         [0.08627451],\n",
       "         [0.08235294],\n",
       "         [0.07843137]],\n",
       " \n",
       "        ...,\n",
       " \n",
       "        [[0.09803922],\n",
       "         [0.09803922],\n",
       "         [0.10588235],\n",
       "         ...,\n",
       "         [0.1254902 ],\n",
       "         [0.11764706],\n",
       "         [0.11764706]],\n",
       " \n",
       "        [[0.09803922],\n",
       "         [0.09803922],\n",
       "         [0.10980392],\n",
       "         ...,\n",
       "         [0.14117647],\n",
       "         [0.13333333],\n",
       "         [0.13333333]],\n",
       " \n",
       "        [[0.09803922],\n",
       "         [0.09803922],\n",
       "         [0.11372549],\n",
       "         ...,\n",
       "         [0.14901961],\n",
       "         [0.14901961],\n",
       "         [0.14901961]]]),\n",
       " array([[[0.07843137],\n",
       "         [0.07843137],\n",
       "         [0.0745098 ],\n",
       "         ...,\n",
       "         [0.85882353],\n",
       "         [0.90196078],\n",
       "         [0.91372549]],\n",
       " \n",
       "        [[0.07843137],\n",
       "         [0.07843137],\n",
       "         [0.0745098 ],\n",
       "         ...,\n",
       "         [0.90980392],\n",
       "         [0.93333333],\n",
       "         [0.94117647]],\n",
       " \n",
       "        [[0.08235294],\n",
       "         [0.07843137],\n",
       "         [0.0745098 ],\n",
       "         ...,\n",
       "         [0.92941176],\n",
       "         [0.94509804],\n",
       "         [0.94901961]],\n",
       " \n",
       "        ...,\n",
       " \n",
       "        [[0.04313725],\n",
       "         [0.03137255],\n",
       "         [0.01176471],\n",
       "         ...,\n",
       "         [0.57254902],\n",
       "         [0.55686275],\n",
       "         [0.52156863]],\n",
       " \n",
       "        [[0.05882353],\n",
       "         [0.03137255],\n",
       "         [0.30980392],\n",
       "         ...,\n",
       "         [0.57647059],\n",
       "         [0.56470588],\n",
       "         [0.53333333]],\n",
       " \n",
       "        [[0.09019608],\n",
       "         [0.36470588],\n",
       "         [0.56470588],\n",
       "         ...,\n",
       "         [0.57647059],\n",
       "         [0.56862745],\n",
       "         [0.54117647]]])]"
      ]
     },
     "execution_count": 146,
     "metadata": {},
     "output_type": "execute_result"
    }
   ],
   "source": [
    "using_samples = [1,500,3000,150]\n",
    "predicting_imgs = []\n",
    "\n",
    "[(predicting_imgs.append(X_train[sample])) for sample in using_samples]\n",
    "    \n",
    "predicting_imgs"
   ]
  },
  {
   "cell_type": "code",
   "execution_count": 147,
   "id": "06686044",
   "metadata": {
    "scrolled": true
   },
   "outputs": [
    {
     "name": "stdout",
     "output_type": "stream",
     "text": [
      "(4, 60, 60, 1)\n"
     ]
    }
   ],
   "source": [
    "predicting_imgs = np.array(predicting_imgs)\n",
    "print(predicting_imgs.shape)"
   ]
  },
  {
   "cell_type": "code",
   "execution_count": 148,
   "id": "cfb7ec13",
   "metadata": {},
   "outputs": [
    {
     "data": {
      "text/plain": [
       "array([[9.5889193e-01],\n",
       "       [1.5148059e-05],\n",
       "       [6.2695146e-04],\n",
       "       [9.0412921e-01]], dtype=float32)"
      ]
     },
     "execution_count": 148,
     "metadata": {},
     "output_type": "execute_result"
    }
   ],
   "source": [
    "predictions = model.predict(predicting_imgs)\n",
    "predictions"
   ]
  },
  {
   "cell_type": "code",
   "execution_count": 160,
   "id": "1c58717f",
   "metadata": {},
   "outputs": [
    {
     "data": {
      "text/plain": [
       "[array([1.], dtype=float32),\n",
       " array([0.], dtype=float32),\n",
       " array([0.], dtype=float32),\n",
       " array([1.], dtype=float32)]"
      ]
     },
     "execution_count": 160,
     "metadata": {},
     "output_type": "execute_result"
    }
   ],
   "source": [
    "my_sample_pred_y_res = []\n",
    "[my_sample_pred_y_res.append(pred.round())  for pred in predictions]\n",
    "my_sample_pred_y_res"
   ]
  },
  {
   "cell_type": "markdown",
   "id": "5a1b5146",
   "metadata": {},
   "source": [
    "## Check |Yep|  "
   ]
  },
  {
   "cell_type": "code",
   "execution_count": 167,
   "id": "91aa7382",
   "metadata": {},
   "outputs": [
    {
     "name": "stdout",
     "output_type": "stream",
     "text": [
      "[array([1]), array([0]), array([0]), array([1])]\n",
      "[array([1.], dtype=float32), array([0.], dtype=float32), array([0.], dtype=float32), array([1.], dtype=float32)]\n"
     ]
    }
   ],
   "source": [
    "print(my_pred_sample_y_real)\n",
    "print((my_sample_pred_y_res))"
   ]
  },
  {
   "cell_type": "markdown",
   "id": "5c7598a1",
   "metadata": {},
   "source": [
    "## All correct!"
   ]
  },
  {
   "cell_type": "code",
   "execution_count": null,
   "id": "48da31f4",
   "metadata": {},
   "outputs": [],
   "source": []
  }
 ],
 "metadata": {
  "kernelspec": {
   "display_name": "Python 3",
   "language": "python",
   "name": "python3"
  },
  "language_info": {
   "codemirror_mode": {
    "name": "ipython",
    "version": 3
   },
   "file_extension": ".py",
   "mimetype": "text/x-python",
   "name": "python",
   "nbconvert_exporter": "python",
   "pygments_lexer": "ipython3",
   "version": "3.8.8"
  }
 },
 "nbformat": 4,
 "nbformat_minor": 5
}
